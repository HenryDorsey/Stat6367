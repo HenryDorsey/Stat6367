{
 "cells": [
  {
   "cell_type": "code",
   "execution_count": 1,
   "metadata": {},
   "outputs": [],
   "source": [
    "import json\n",
    "import codecs\n",
    "import csv\n",
    "import requests\n",
    "import pandas as pd\n",
    "from geopy.geocoders import Nominatim\n",
    "from selenium.webdriver.common.keys import Keys\n",
    "from selenium.webdriver.common.action_chains import ActionChains\n",
    "import os\n",
    "\n",
    "import time\n",
    "from geopy.distance import distance\n",
    "import numpy as np\n",
    "import io\n",
    "import random \n",
    "from jsonpath_ng import jsonpath, parse"
   ]
  },
  {
   "cell_type": "code",
   "execution_count": 2,
   "metadata": {},
   "outputs": [],
   "source": [
    "# Nielson coords are in the Albers-USA projection and need to be converted into lat long in order to be used. :/\n",
    "f = open('nielsen-dma/nielsen-mkt-map.json')\n",
    "x = json.load(f)\n",
    "f.close()"
   ]
  },
  {
   "cell_type": "code",
   "execution_count": 3,
   "metadata": {},
   "outputs": [],
   "source": [
    "lat_expr = parse('features[*].properties[*].latitude')\n",
    "long_expr = parse('features[*].properties[*].longitude')\n",
    "dma_expr = parse('features[*].properties[*].dma_name')\n",
    "coords_expr = parse('features[*].geometry[*].coordinates')\n",
    "\n",
    "# get lists of individual loc data\n",
    "lats = [match.value for match in lat_expr.find(x)]\n",
    "longs = [match.value for match in long_expr.find(x)]\n",
    "names = [match.value for match in dma_expr.find(x)]\n",
    "coords = [match.value for match in coords_expr.find(x)]\n",
    "state = [i[-2:] for i in names]\n",
    "\n",
    "# get list of lists of the location info to put into a dict with dma name\n",
    "loc = [[state[i], lats[i], longs[i], coords[i]] for i in range(len(lats))]\n",
    "\n",
    "dma_dict = dict(zip(names,loc))"
   ]
  },
  {
   "cell_type": "code",
   "execution_count": 4,
   "metadata": {},
   "outputs": [
    {
     "name": "stdout",
     "output_type": "stream",
     "text": [
      "Min Longitude:  -123.9077705\n",
      "Max Longitude:  -68.751059\n",
      "Min Latitude:  25.4400565\n",
      "Min Latitude:  47.8366395\n"
     ]
    }
   ],
   "source": [
    "print('Min Longitude: ', str(np.min([i for i in longs if i!=None])))\n",
    "print('Max Longitude: ', str(np.max([i for i in longs if i!=None])))\n",
    "print('Min Latitude: ', str(np.min([i for i in lats if i!=None])))\n",
    "print('Min Latitude: ', str(np.max([i for i in lats if i!=None])))"
   ]
  },
  {
   "cell_type": "markdown",
   "metadata": {},
   "source": [
    "Looks like Alaska gets excluded from lat calcs anyway."
   ]
  },
  {
   "cell_type": "code",
   "execution_count": 5,
   "metadata": {},
   "outputs": [],
   "source": [
    "def rad(d): return (d/360.0)*2*np.pi\n",
    "\n",
    "def USA_Albers(lat, long):\n",
    "    R = 1.0          # Radius\n",
    "    phi = lat        # Latitude\n",
    "    phi_0 = 0      # Reference Latitude\n",
    "    phi_1 = 25.44      # Std. Parallel 1 (need to fine tune (loss fxn?))\n",
    "    phi_2 = 47.83     # Std. Parallel 2\n",
    "    lamda = long      # Longitude\n",
    "    lamda_0 = 0    # Reference longitude\n",
    "    \n",
    "    n = .5*(np.sin(phi_1) + np.sin(phi_2))\n",
    "    theta = n*(lamda - lamda_0)\n",
    "    C = np.cos(phi_1)**2 + (2*n*np.sin(phi_1))\n",
    "    rho = (R/n)*np.sqrt((C-(2*n*sin(phi))))\n",
    "    rho_0 = (R/n)*np.sqrt((C-(2*n*sin(phi_0))))\n",
    "    \n",
    "    lat_new = lat*C         # Not sure what to mult by yet. Above seems built for a projection\n",
    "    long_new = long*C       # ''\n",
    "    \n",
    "    return [lat_new, long_new]"
   ]
  },
  {
   "cell_type": "code",
   "execution_count": 6,
   "metadata": {},
   "outputs": [
    {
     "data": {
      "text/plain": [
       "38.7901085"
      ]
     },
     "execution_count": 6,
     "metadata": {},
     "output_type": "execute_result"
    }
   ],
   "source": [
    "dma_dict['Sacramento-Stockton-Modesto, CA'][1]"
   ]
  },
  {
   "cell_type": "code",
   "execution_count": 73,
   "metadata": {},
   "outputs": [],
   "source": [
    "# Bad data source. Looking for something more authoritative\n",
    "zips = pd.read_csv('zip_code_database.csv')\n",
    "zips['zip'] = zips['zip'].astype(str)\n",
    "zips['zip_len'] = zips['zip'].apply(lambda x: len(x))\n",
    "zips = zips[zips.zip_len>=5]"
   ]
  },
  {
   "cell_type": "code",
   "execution_count": 77,
   "metadata": {},
   "outputs": [],
   "source": [
    "zips['dma'] = 0"
   ]
  },
  {
   "cell_type": "code",
   "execution_count": 92,
   "metadata": {},
   "outputs": [
    {
     "name": "stdout",
     "output_type": "stream",
     "text": [
      "{'place_id': 258510821, 'licence': 'Data © OpenStreetMap contributors, ODbL 1.0. https://osm.org/copyright', 'osm_type': 'relation', 'osm_id': 2279628, 'boundingbox': ['-22.3787758', '-18.7475425', '15.5724597', '20.9990219'], 'lat': '-19.9424962', 'lon': '18.395886', 'display_name': 'Otjozondjupa Region, Namibia', 'class': 'boundary', 'type': 'administrative', 'importance': 0.001, 'icon': 'https://nominatim.openstreetmap.org/ui/mapicons//poi_boundary_administrative.p.20.png'}\n"
     ]
    }
   ],
   "source": [
    "geolocator = Nominatim(user_agent=\"hank_app\")\n",
    "\n",
    "\n",
    "YC_coord = geolocator.geocode('-20.175988, 17.633473').raw\n",
    "print(YC_coord)\n"
   ]
  },
  {
   "cell_type": "code",
   "execution_count": 82,
   "metadata": {},
   "outputs": [],
   "source": [
    "def point_in_polygon(polygon, point):\n",
    "    \"\"\"\n",
    "    Raycasting Algorithm to find out whether a point is in a given polygon.\n",
    "    Performs the even-odd-rule Algorithm to find out whether a point is in a given polygon.\n",
    "    This runs in O(n) where n is the number of edges of the polygon.\n",
    "     *\n",
    "    :param polygon: an array representation of the polygon where polygon[i][0] is the x Value of the i-th point and polygon[i][1] is the y Value.\n",
    "    :param point:   an array representation of the point where point[0] is its x Value and point[1] is its y Value\n",
    "    :return: whether the point is in the polygon (not on the edge, just turn < into <= and > into >= for that)\n",
    "    \"\"\"\n",
    "\n",
    "    # A point is in a polygon if a line from the point to infinity crosses the polygon an odd number of times\n",
    "    odd = False\n",
    "    # For each edge (In this case for each point of the polygon and the previous one)\n",
    "    i = 0\n",
    "    j = len(polygon) - 1\n",
    "    while i < len(polygon) - 1:\n",
    "        i = i + 1\n",
    "        # If a line from the point into infinity crosses this edge\n",
    "        # One point needs to be above, one below our y coordinate\n",
    "        # ...and the edge doesn't cross our Y corrdinate before our x coordinate (but between our x coordinate and infinity)\n",
    "\n",
    "        if (((polygon[i][1] > point[1]) != (polygon[j][1] > point[1])) and (point[0] < (\n",
    "                (polygon[j][0] - polygon[i][0]) * (point[1] - polygon[i][1]) / (polygon[j][1] - polygon[i][1])) +\n",
    "                                                                            polygon[i][0])):\n",
    "            # Invert odd\n",
    "            odd = not odd\n",
    "        j = i\n",
    "    # If the number of crossings was odd, the point is in the polygon\n",
    "    return odd\n"
   ]
  },
  {
   "cell_type": "code",
   "execution_count": 90,
   "metadata": {},
   "outputs": [
    {
     "data": {
      "text/plain": [
       "False"
      ]
     },
     "execution_count": 90,
     "metadata": {},
     "output_type": "execute_result"
    }
   ],
   "source": [
    "# Need to get coords out of Albers-USA\n",
    "point_in_polygon(dma_dict['Sacramento-Stockton-Modesto, CA'][2][0][0], (38.575764, -121.478851))"
   ]
  }
 ],
 "metadata": {
  "kernelspec": {
   "display_name": "Python 3",
   "language": "python",
   "name": "python3"
  },
  "language_info": {
   "codemirror_mode": {
    "name": "ipython",
    "version": 3
   },
   "file_extension": ".py",
   "mimetype": "text/x-python",
   "name": "python",
   "nbconvert_exporter": "python",
   "pygments_lexer": "ipython3",
   "version": "3.7.9"
  }
 },
 "nbformat": 4,
 "nbformat_minor": 4
}
